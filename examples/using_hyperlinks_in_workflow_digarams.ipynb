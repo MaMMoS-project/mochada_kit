{
 "cells": [
  {
   "cell_type": "markdown",
   "id": "5807fb75-9084-4594-8dfc-bf0e5b1d869d",
   "metadata": {},
   "source": [
    "## **Using hyperlinks in MODA and CHADA workflow diagrams**"
   ]
  },
  {
   "cell_type": "markdown",
   "id": "48957079-c169-4971-9646-8942147eb95d",
   "metadata": {},
   "source": [
    "Hyperlinks can be applied to text within an activity element or to the element itself. Hyperlinks can point to an exteral website (URL) or to a local file *e.g.* another diagram or image. This feature can be used to enrich activity diagrams with further information without spoiling their appearance."
   ]
  },
  {
   "cell_type": "markdown",
   "id": "c5bcb543-57ea-4dae-93df-73919e609b1d",
   "metadata": {},
   "source": [
    "<br>\n",
    "\n",
    "#### **1. Initial diagram code WITHOUT hyperlinks**"
   ]
  },
  {
   "cell_type": "markdown",
   "id": "4dc6f4aa-53cb-4e7c-8e77-b4a4dc62e94f",
   "metadata": {},
   "source": [
    "<br>\n",
    "\n",
    "Here's the puml code for a CHADA workflow diagram for SEM with combined EBSD and EDX:\n",
    "\n",
    "```\n",
    "@startuml\n",
    "!theme MOCHADA-plasma from ../../themes\n",
    ":Bulk sample or thin film; <<user_case>>\n",
    "group SEM-EBSD-EDX <<group_collection>>\n",
    "  :Set up experimental geometry:\\n sample tilt (<U+00B0>), working distance (mm),\\ndetector distance (mm); <<experiment>>\n",
    "  :Acquire electron image (SE, BSE, FSE); <<experiment>>\n",
    "  :Electron image(s); <<raw_data>>\n",
    "  :Define rectangular ROI, step size,\\ndetector and indexing parameters; <<experiment>>\n",
    "  split\n",
    "    group EBSD <<group_single>>\n",
    "      :Acquire EBSD patterns at all points in ROI; <<experiment>>\n",
    "      :EBSD pattern for each point; <<raw_data>>\n",
    "      :Hough indexing (automatic); <<data_processing>>\n",
    "    end group\n",
    "  split again\n",
    "    group EDX <<group_single>>\n",
    "      :Acquire EDX spectra at all points in ROI; <<experiment>>\n",
    "      :EDX spectrum for each point; <<raw_data>>\n",
    "      :Analyse composition (automatic) //e.g.//:\\nno. counts for element 1 > x; <<data_processing>>\n",
    "    end group\n",
    "  end split\n",
    "  :Assign phase and orientation to each point\\n(automatic); <<data_processing>>\n",
    "  :Euler angles and phase ID\\nfor each point in map; <<final_data>>\n",
    "  :Analysis of orientations (user controlled); <<data_processing>>\n",
    "  :Orientation maps, Pole figures\\nQuantitative measures //e.g.// grain size; <<final_data>>\n",
    "  detach\n",
    "end group\n",
    "@enduml\n",
    "```\n",
    "<br>\n",
    "\n",
    "Let's write this to file and run it:"
   ]
  },
  {
   "cell_type": "code",
   "execution_count": 1,
   "id": "fc1e3a96-f498-434e-ad82-810043b7cc58",
   "metadata": {},
   "outputs": [],
   "source": [
    "import pathlib\n",
    "\n",
    "import mochada_kit.running as mr"
   ]
  },
  {
   "cell_type": "markdown",
   "id": "796b4c1a-ead5-4957-819d-58096a1b3c38",
   "metadata": {},
   "source": [
    "**Newline characters within the name of an activity element must be double escaped in a multiline Python string i.e. \"\\\\\\\\\\n\"**\n",
    "\n",
    "(you do not have to do this if you are writing the puml code in a text editor)"
   ]
  },
  {
   "cell_type": "code",
   "execution_count": 3,
   "id": "4caed0d6-0ea1-4c3c-b4f7-0cb415fe11ed",
   "metadata": {},
   "outputs": [],
   "source": [
    "puml_code = \"\"\"@startuml\n",
    "!theme MOCHADA-plasma from ../../themes\n",
    ":Bulk sample or thin film; <<user_case>>\n",
    "group SEM-EBSD-EDX <<group_collection>>\n",
    "  :Set up experimental geometry:\\\\n sample tilt (<U+00B0>), working distance (mm),\\\\ndetector distance (mm); <<experiment>>\n",
    "  :Acquire electron image (SE, BSE, FSE); <<experiment>>\n",
    "  :Electron image(s); <<raw_data>>\n",
    "  :Define rectangular ROI, step size,\\\\ndetector and indexing parameters; <<experiment>>\n",
    "  split\n",
    "    group EBSD <<group_single>>\n",
    "      :Acquire EBSD patterns at all points in ROI; <<experiment>>\n",
    "      :EBSD pattern for each point; <<raw_data>>\n",
    "      :Hough indexing (automatic); <<data_processing>>\n",
    "    end group\n",
    "  split again\n",
    "    group EDX <<group_single>>\n",
    "      :Acquire EDX spectra at all points in ROI; <<experiment>>\n",
    "      :EDX spectrum for each point; <<raw_data>>\n",
    "      :Analyse composition (automatic) //e.g.//:\\\\nno. counts for element 1 > x; <<data_processing>>\n",
    "    end group\n",
    "  end split\n",
    "  :Assign phase and orientation to each point\\\\n(automatic); <<data_processing>>\n",
    "  :Euler angles and phase ID\\\\nfor each point in map; <<final_data>>\n",
    "  :Analysis of orientations (user controlled); <<data_processing>>\n",
    "  :Orientation maps, Pole figures\\\\nQuantitative measures //e.g.// grain size; <<final_data>>\n",
    "  detach\n",
    "end group\n",
    "@enduml\n",
    "\"\"\"\n",
    "\n",
    "out_file = pathlib.Path(\n",
    "    \"../gallery/puml_code/chada_workflow_SEM_EBSD_EDX_nested_techniques.puml\"\n",
    ")\n",
    "\n",
    "with open(out_file, \"w\") as handle:\n",
    "    handle.write(puml_code)"
   ]
  },
  {
   "cell_type": "code",
   "execution_count": 4,
   "id": "fbb7ec6e-ea9b-4b0f-8715-3f5f3b401093",
   "metadata": {},
   "outputs": [],
   "source": [
    "mr.run_plantuml_code(\n",
    "    pathlib.Path(\n",
    "        \"../gallery/puml_code/chada_workflow_SEM_EBSD_EDX_nested_techniques.puml\"\n",
    "    ),\n",
    "    output_dir=pathlib.Path(\"../\"),\n",
    ")"
   ]
  },
  {
   "cell_type": "markdown",
   "id": "22929cff-3376-4701-938b-aa3b3af3c623",
   "metadata": {},
   "source": [
    "Here's the resulting diagram (we have to us ipython display rather than Markdown to display svg files which have line breaks within elements properly):"
   ]
  },
  {
   "cell_type": "code",
   "execution_count": 5,
   "id": "d1a4421d-663b-4f54-b8b0-ef05b4a36eca",
   "metadata": {},
   "outputs": [],
   "source": [
    "from IPython.display import SVG, display"
   ]
  },
  {
   "cell_type": "code",
   "execution_count": 6,
   "id": "ccff96df-85ce-418a-b78e-f0a7840296a8",
   "metadata": {},
   "outputs": [
    {
     "data": {
      "image/svg+xml": [
       "<svg xmlns=\"http://www.w3.org/2000/svg\" xmlns:xlink=\"http://www.w3.org/1999/xlink\" contentStyleType=\"text/css\" height=\"910px\" preserveAspectRatio=\"none\" style=\"width:597px;height:910px;background:#FFFFFF;\" version=\"1.1\" viewBox=\"0 0 597 910\" width=\"597px\" zoomAndPan=\"magnify\"><defs/><g><rect fill=\"#0D0887\" height=\"35.0938\" rx=\"12.5\" ry=\"12.5\" style=\"stroke:#181818;stroke-width:0.5;\" width=\"149\" x=\"224\" y=\"11\"/><text fill=\"#FFFFFF\" font-family=\"sans-serif\" font-size=\"12\" lengthAdjust=\"spacing\" textLength=\"129\" x=\"234\" y=\"33.457\">Bulk sample or thin film</text><rect fill=\"#C0C0C0\" height=\"843.5469\" rx=\"5\" ry=\"5\" style=\"stroke:#0000CD;stroke-width:1.5;\" width=\"575\" x=\"11\" y=\"56.0938\"/><path d=\"M124,56.0938 L124,66.7031 L114,76.7031 L11,76.7031 \" fill=\"none\" style=\"stroke:#0000CD;stroke-width:1.5;\"/><text fill=\"#0000CD\" font-family=\"sans-serif\" font-size=\"14\" lengthAdjust=\"spacing\" textLength=\"103\" x=\"14\" y=\"71.627\">SEM-EBSD-EDX</text><rect fill=\"#9C179E\" height=\"65.2813\" rx=\"12.5\" ry=\"12.5\" style=\"stroke:#181818;stroke-width:0.5;\" width=\"231\" x=\"183\" y=\"93.7031\"/><text fill=\"#FFFFFF\" font-family=\"sans-serif\" font-size=\"12\" lengthAdjust=\"spacing\" textLength=\"166\" x=\"215.5\" y=\"116.1602\">Set up experimental geometry:</text><text fill=\"#FFFFFF\" font-family=\"sans-serif\" font-size=\"12\" lengthAdjust=\"spacing\" textLength=\"208\" x=\"196\" y=\"131.2539\">sample tilt (°), working distance (mm),</text><text fill=\"#FFFFFF\" font-family=\"sans-serif\" font-size=\"12\" lengthAdjust=\"spacing\" textLength=\"127\" x=\"235\" y=\"146.3477\">detector distance (mm)</text><rect fill=\"#9C179E\" height=\"35.0938\" rx=\"12.5\" ry=\"12.5\" style=\"stroke:#181818;stroke-width:0.5;\" width=\"232\" x=\"182.5\" y=\"178.9844\"/><text fill=\"#FFFFFF\" font-family=\"sans-serif\" font-size=\"12\" lengthAdjust=\"spacing\" textLength=\"212\" x=\"192.5\" y=\"201.4414\">Acquire electron image (SE, BSE, FSE)</text><rect fill=\"#ED7953\" height=\"35.0938\" rx=\"12.5\" ry=\"12.5\" style=\"stroke:#181818;stroke-width:0.5;\" width=\"118\" x=\"239.5\" y=\"234.0781\"/><text fill=\"#FFFFFF\" font-family=\"sans-serif\" font-size=\"12\" lengthAdjust=\"spacing\" textLength=\"98\" x=\"249.5\" y=\"256.5352\">Electron image(s)</text><rect fill=\"#9C179E\" height=\"50.1875\" rx=\"12.5\" ry=\"12.5\" style=\"stroke:#181818;stroke-width:0.5;\" width=\"204\" x=\"196.5\" y=\"289.1719\"/><text fill=\"#FFFFFF\" font-family=\"sans-serif\" font-size=\"12\" lengthAdjust=\"spacing\" textLength=\"183\" x=\"207\" y=\"311.6289\">Define rectangular ROI, step size,</text><text fill=\"#FFFFFF\" font-family=\"sans-serif\" font-size=\"12\" lengthAdjust=\"spacing\" textLength=\"184\" x=\"206.5\" y=\"326.7227\">detector and indexing parameters</text><line style=\"stroke:#181818;stroke-width:1.5;\" x1=\"157\" x2=\"446.5\" y1=\"359.3594\" y2=\"359.3594\"/><rect fill=\"#F5F5DC\" height=\"217.5313\" rx=\"5\" ry=\"5\" style=\"stroke:#1E90FF;stroke-width:1.5;\" width=\"268\" x=\"23\" y=\"376.9063\"/><path d=\"M70,376.9063 L70,387.5156 L60,397.5156 L23,397.5156 \" fill=\"none\" style=\"stroke:#1E90FF;stroke-width:1.5;\"/><text fill=\"#1E90FF\" font-family=\"sans-serif\" font-size=\"14\" lengthAdjust=\"spacing\" textLength=\"37\" x=\"26\" y=\"392.4395\">EBSD</text><rect fill=\"#9C179E\" height=\"35.0938\" rx=\"12.5\" ry=\"12.5\" style=\"stroke:#181818;stroke-width:0.5;\" width=\"248\" x=\"33\" y=\"414.5156\"/><text fill=\"#FFFFFF\" font-family=\"sans-serif\" font-size=\"12\" lengthAdjust=\"spacing\" textLength=\"228\" x=\"43\" y=\"436.9727\">Acquire EBSD patterns at all points in ROI</text><rect fill=\"#ED7953\" height=\"35.0938\" rx=\"12.5\" ry=\"12.5\" style=\"stroke:#181818;stroke-width:0.5;\" width=\"171\" x=\"71.5\" y=\"477.1563\"/><text fill=\"#FFFFFF\" font-family=\"sans-serif\" font-size=\"12\" lengthAdjust=\"spacing\" textLength=\"151\" x=\"81.5\" y=\"499.6133\">EBSD pattern for each point</text><rect fill=\"#F0F921\" height=\"35.0938\" rx=\"12.5\" ry=\"12.5\" style=\"stroke:#181818;stroke-width:0.5;\" width=\"171\" x=\"71.5\" y=\"539.7969\"/><text fill=\"#000000\" font-family=\"sans-serif\" font-size=\"12\" lengthAdjust=\"spacing\" textLength=\"151\" x=\"81.5\" y=\"562.2539\">Hough indexing (automatic)</text><rect fill=\"#F5F5DC\" height=\"232.625\" rx=\"5\" ry=\"5\" style=\"stroke:#1E90FF;stroke-width:1.5;\" width=\"255\" x=\"319\" y=\"369.3594\"/><path d=\"M356,369.3594 L356,379.9688 L346,389.9688 L319,389.9688 \" fill=\"none\" style=\"stroke:#1E90FF;stroke-width:1.5;\"/><text fill=\"#1E90FF\" font-family=\"sans-serif\" font-size=\"14\" lengthAdjust=\"spacing\" textLength=\"27\" x=\"322\" y=\"384.8926\">EDX</text><rect fill=\"#9C179E\" height=\"35.0938\" rx=\"12.5\" ry=\"12.5\" style=\"stroke:#181818;stroke-width:0.5;\" width=\"235\" x=\"329\" y=\"406.9688\"/><text fill=\"#FFFFFF\" font-family=\"sans-serif\" font-size=\"12\" lengthAdjust=\"spacing\" textLength=\"215\" x=\"339\" y=\"429.4258\">Acquire EDX spectra at all points in ROI</text><rect fill=\"#ED7953\" height=\"35.0938\" rx=\"12.5\" ry=\"12.5\" style=\"stroke:#181818;stroke-width:0.5;\" width=\"176\" x=\"358.5\" y=\"469.6094\"/><text fill=\"#FFFFFF\" font-family=\"sans-serif\" font-size=\"12\" lengthAdjust=\"spacing\" textLength=\"156\" x=\"368.5\" y=\"492.0664\">EDX spectrum for each point</text><rect fill=\"#F0F921\" height=\"50.1875\" rx=\"12.5\" ry=\"12.5\" style=\"stroke:#181818;stroke-width:0.5;\" width=\"225\" x=\"334\" y=\"532.25\"/><text fill=\"#000000\" font-family=\"sans-serif\" font-size=\"12\" lengthAdjust=\"spacing\" textLength=\"179\" x=\"344\" y=\"554.707\">Analyse composition (automatic)</text><text fill=\"#000000\" font-family=\"sans-serif\" font-size=\"12\" font-style=\"italic\" lengthAdjust=\"spacing\" textLength=\"20\" x=\"526\" y=\"554.707\">e.g.</text><text fill=\"#000000\" font-family=\"sans-serif\" font-size=\"12\" lengthAdjust=\"spacing\" textLength=\"3\" x=\"546\" y=\"554.707\">:</text><text fill=\"#000000\" font-family=\"sans-serif\" font-size=\"12\" lengthAdjust=\"spacing\" textLength=\"150\" x=\"371.5\" y=\"569.8008\">no. counts for element 1 &gt; x</text><line style=\"stroke:#181818;stroke-width:1.5;\" x1=\"157\" x2=\"446.5\" y1=\"621.9844\" y2=\"621.9844\"/><rect fill=\"#F0F921\" height=\"50.1875\" rx=\"12.5\" ry=\"12.5\" style=\"stroke:#181818;stroke-width:0.5;\" width=\"254\" x=\"171.5\" y=\"641.9844\"/><text fill=\"#000000\" font-family=\"sans-serif\" font-size=\"12\" lengthAdjust=\"spacing\" textLength=\"234\" x=\"181.5\" y=\"664.4414\">Assign phase and orientation to each point</text><text fill=\"#000000\" font-family=\"sans-serif\" font-size=\"12\" lengthAdjust=\"spacing\" textLength=\"62\" x=\"267.5\" y=\"679.5352\">(automatic)</text><rect fill=\"#F0F921\" height=\"50.1875\" rx=\"12.5\" ry=\"12.5\" style=\"stroke:#0000FF;stroke-width:2.0;\" width=\"167\" x=\"215\" y=\"712.1719\"/><text fill=\"#000000\" font-family=\"sans-serif\" font-size=\"12\" lengthAdjust=\"spacing\" textLength=\"147\" x=\"225\" y=\"734.6289\">Euler angles and phase ID</text><text fill=\"#000000\" font-family=\"sans-serif\" font-size=\"12\" lengthAdjust=\"spacing\" textLength=\"115\" x=\"241\" y=\"749.7227\">for each point in map</text><rect fill=\"#F0F921\" height=\"35.0938\" rx=\"12.5\" ry=\"12.5\" style=\"stroke:#181818;stroke-width:0.5;\" width=\"240\" x=\"178.5\" y=\"782.3594\"/><text fill=\"#000000\" font-family=\"sans-serif\" font-size=\"12\" lengthAdjust=\"spacing\" textLength=\"220\" x=\"188.5\" y=\"804.8164\">Analysis of orientations (user controlled)</text><rect fill=\"#F0F921\" height=\"50.1875\" rx=\"12.5\" ry=\"12.5\" style=\"stroke:#0000FF;stroke-width:2.0;\" width=\"223\" x=\"187\" y=\"837.4531\"/><text fill=\"#000000\" font-family=\"sans-serif\" font-size=\"12\" lengthAdjust=\"spacing\" textLength=\"167\" x=\"215\" y=\"859.9102\">Orientation maps, Pole figures</text><text fill=\"#000000\" font-family=\"sans-serif\" font-size=\"12\" lengthAdjust=\"spacing\" textLength=\"124\" x=\"197\" y=\"875.0039\">Quantitative measures</text><text fill=\"#000000\" font-family=\"sans-serif\" font-size=\"12\" font-style=\"italic\" lengthAdjust=\"spacing\" textLength=\"20\" x=\"324\" y=\"875.0039\">e.g.</text><text fill=\"#000000\" font-family=\"sans-serif\" font-size=\"12\" lengthAdjust=\"spacing\" textLength=\"53\" x=\"347\" y=\"875.0039\">grain size</text><line style=\"stroke:#181818;stroke-width:1.0;\" x1=\"298.5\" x2=\"298.5\" y1=\"158.9844\" y2=\"178.9844\"/><polygon fill=\"#181818\" points=\"294.5,168.9844,298.5,178.9844,302.5,168.9844,298.5,172.9844\" style=\"stroke:#181818;stroke-width:1.0;\"/><line style=\"stroke:#181818;stroke-width:1.0;\" x1=\"298.5\" x2=\"298.5\" y1=\"214.0781\" y2=\"234.0781\"/><polygon fill=\"#181818\" points=\"294.5,224.0781,298.5,234.0781,302.5,224.0781,298.5,228.0781\" style=\"stroke:#181818;stroke-width:1.0;\"/><line style=\"stroke:#181818;stroke-width:1.0;\" x1=\"298.5\" x2=\"298.5\" y1=\"269.1719\" y2=\"289.1719\"/><polygon fill=\"#181818\" points=\"294.5,279.1719,298.5,289.1719,302.5,279.1719,298.5,283.1719\" style=\"stroke:#181818;stroke-width:1.0;\"/><line style=\"stroke:#181818;stroke-width:1.0;\" x1=\"157\" x2=\"157\" y1=\"449.6094\" y2=\"477.1563\"/><polygon fill=\"#181818\" points=\"153,467.1563,157,477.1563,161,467.1563,157,471.1563\" style=\"stroke:#181818;stroke-width:1.0;\"/><line style=\"stroke:#181818;stroke-width:1.0;\" x1=\"157\" x2=\"157\" y1=\"512.25\" y2=\"539.7969\"/><polygon fill=\"#181818\" points=\"153,529.7969,157,539.7969,161,529.7969,157,533.7969\" style=\"stroke:#181818;stroke-width:1.0;\"/><line style=\"stroke:#181818;stroke-width:1.0;\" x1=\"446.5\" x2=\"446.5\" y1=\"442.0625\" y2=\"469.6094\"/><polygon fill=\"#181818\" points=\"442.5,459.6094,446.5,469.6094,450.5,459.6094,446.5,463.6094\" style=\"stroke:#181818;stroke-width:1.0;\"/><line style=\"stroke:#181818;stroke-width:1.0;\" x1=\"446.5\" x2=\"446.5\" y1=\"504.7031\" y2=\"532.25\"/><polygon fill=\"#181818\" points=\"442.5,522.25,446.5,532.25,450.5,522.25,446.5,526.25\" style=\"stroke:#181818;stroke-width:1.0;\"/><line style=\"stroke:#181818;stroke-width:1.0;\" x1=\"157\" x2=\"157\" y1=\"360.8594\" y2=\"414.5156\"/><polygon fill=\"#181818\" points=\"153,404.5156,157,414.5156,161,404.5156,157,408.5156\" style=\"stroke:#181818;stroke-width:1.0;\"/><line style=\"stroke:#181818;stroke-width:1.0;\" x1=\"446.5\" x2=\"446.5\" y1=\"360.8594\" y2=\"406.9688\"/><polygon fill=\"#181818\" points=\"442.5,396.9688,446.5,406.9688,450.5,396.9688,446.5,400.9688\" style=\"stroke:#181818;stroke-width:1.0;\"/><line style=\"stroke:#181818;stroke-width:1.0;\" x1=\"157\" x2=\"157\" y1=\"574.8906\" y2=\"621.9844\"/><polygon fill=\"#181818\" points=\"153,611.9844,157,621.9844,161,611.9844,157,615.9844\" style=\"stroke:#181818;stroke-width:1.0;\"/><line style=\"stroke:#181818;stroke-width:1.0;\" x1=\"446.5\" x2=\"446.5\" y1=\"582.4375\" y2=\"621.9844\"/><polygon fill=\"#181818\" points=\"442.5,611.9844,446.5,621.9844,450.5,611.9844,446.5,615.9844\" style=\"stroke:#181818;stroke-width:1.0;\"/><line style=\"stroke:#181818;stroke-width:1.0;\" x1=\"298.5\" x2=\"298.5\" y1=\"339.3594\" y2=\"359.3594\"/><polygon fill=\"#181818\" points=\"294.5,349.3594,298.5,359.3594,302.5,349.3594,298.5,353.3594\" style=\"stroke:#181818;stroke-width:1.0;\"/><line style=\"stroke:#181818;stroke-width:1.0;\" x1=\"298.5\" x2=\"298.5\" y1=\"623.4844\" y2=\"641.9844\"/><polygon fill=\"#181818\" points=\"294.5,631.9844,298.5,641.9844,302.5,631.9844,298.5,635.9844\" style=\"stroke:#181818;stroke-width:1.0;\"/><line style=\"stroke:#181818;stroke-width:1.0;\" x1=\"298.5\" x2=\"298.5\" y1=\"692.1719\" y2=\"712.1719\"/><polygon fill=\"#181818\" points=\"294.5,702.1719,298.5,712.1719,302.5,702.1719,298.5,706.1719\" style=\"stroke:#181818;stroke-width:1.0;\"/><line style=\"stroke:#181818;stroke-width:1.0;\" x1=\"298.5\" x2=\"298.5\" y1=\"762.3594\" y2=\"782.3594\"/><polygon fill=\"#181818\" points=\"294.5,772.3594,298.5,782.3594,302.5,772.3594,298.5,776.3594\" style=\"stroke:#181818;stroke-width:1.0;\"/><line style=\"stroke:#181818;stroke-width:1.0;\" x1=\"298.5\" x2=\"298.5\" y1=\"817.4531\" y2=\"837.4531\"/><polygon fill=\"#181818\" points=\"294.5,827.4531,298.5,837.4531,302.5,827.4531,298.5,831.4531\" style=\"stroke:#181818;stroke-width:1.0;\"/><line style=\"stroke:#181818;stroke-width:1.0;\" x1=\"298.5\" x2=\"298.5\" y1=\"46.0938\" y2=\"93.7031\"/><polygon fill=\"#181818\" points=\"294.5,83.7031,298.5,93.7031,302.5,83.7031,298.5,87.7031\" style=\"stroke:#181818;stroke-width:1.0;\"/><!--SRC=[bLJRZjf037tdAzmtLkNMLugGeAJQVLZH5bNg0nAoWXD6ExUE9rssNr_FfB11PIKQHRdDiNtE6Jllue4CmUFwq_rYjHXwZMmGgk0CZ4PZEVCwzwRBHZy1e_6Qm0M81sMXKjfyXDciOGgx4fdcyruTNEDXKpmEY-LcDInMFmIGF-vAfpMLKJahE83fXY88bewUWZ9a8sgeoHcAuMMwjQTgKUa8_TdtzvF9SZA_6y2p2q_Arh1N7D6M17rZxWPRkwSewONSnK8Y-5gYhRmeVpOg453Y4vm5PR0M-AOOm39TFc-Agu75HK2VCoZWyswF4Ll8YYfb2O80qTQDnW3VrWy3u4WUMFscBbEqUr3oUanwF0OKyHJuIcdsMaMv0xGE9tVFphA4QyguT9prPP37A3aj0qP0hS4xPIDBsSJhIgMSeHi9bJ0bB0zjw3-ISy2zQ-h3gvO-Dj4PZAhC5YNipWTN4YUkVyD8r6S19ts0DIhRLTbfdpT52ePzsXVyFuddkCRS975XKRymGUcCTwnI8tTrmdXCeteq7allMZSIM9D8vCoQKctu07CutkP7UZxj-NGXgDg2FyYCvPvnGQLvoHIYwp3VsXkSdnQDfjHyuYVdV6tcXzNMNXgHB3JeKoBfQjITFc_TK0okwj9XwAVVWQYtCYWoyFktQQmxAgGA3-2Bau6lLDq4ugtzsg2DAW5-4HX2Jf_FDejLqYnvfAxman4J5RspfNy0]--></g></svg>"
      ],
      "text/plain": [
       "<IPython.core.display.SVG object>"
      ]
     },
     "metadata": {},
     "output_type": "display_data"
    }
   ],
   "source": [
    "display(SVG(filename=\"../gallery/chada_workflow_SEM_EBSD_EDX_nested_techniques.svg\"))"
   ]
  },
  {
   "cell_type": "markdown",
   "id": "fd73adb2-64a2-4b13-b746-f0579ce2e063",
   "metadata": {},
   "source": [
    "<br>\n",
    "\n",
    "#### **2. Adding hyperlinks**"
   ]
  },
  {
   "cell_type": "markdown",
   "id": "251338c9-6ed1-42e4-af00-b59031e9b391",
   "metadata": {},
   "source": [
    "We can add hyperlinks to any text element or to an element itself.\n",
    "\n",
    "Let's demonstrate this functionality by:\n",
    "\n",
    "1. linking the title of the single technique group \"EBSD\" to a local file showing the CHADA tables for EBSD (`mochada_kit/gallery/chada_tables_SEM-EBSD.svg`), and\n",
    "2. linking the element \"Acquire electron image (SE, BSE, FSE)\" to a local file showing the metadata for acquiring images as a json diagram (`mochada_kit/gallery/json_SEM_metadata_with_highlights.svg`)\n",
    "\n",
    "<br>\n",
    "\n",
    "To do this, we just need to modify two lines of the original puml source code like this:\n",
    "\n",
    "```\n",
    "@startuml\n",
    "!theme MOCHADA-plasma from ../../themes\n",
    ":Bulk sample or thin film; <<user_case>>\n",
    "group SEM-EBSD-EDX <<group_collection>>\n",
    "  :Set up experimental geometry:\\n sample tilt (<U+00B0>), working distance (mm),\\ndetector distance (mm); <<experiment>>\n",
    "  [[./json_SEM_metadata_with_highlights.svg{View metadata}]]:Acquire electron image (SE, BSE, FSE); <<experiment>>\n",
    "  :Electron image(s); <<raw_data>>\n",
    "  :Define rectangular ROI, step size,\\ndetector and indexing parameters; <<experiment>>\n",
    "  split\n",
    "    group [[./chada_tables_SEM-EBSD.svg{View EBSD CHADA} EBSD]] <<group_single>>\n",
    "      :Acquire EBSD patterns at all points in ROI; <<experiment>>\n",
    "      :EBSD pattern for each point; <<raw_data>>\n",
    "      :Hough indexing (automatic); <<data_processing>>\n",
    "    end group\n",
    "  split again\n",
    "    group EDX <<group_single>>\n",
    "      :Acquire EDX spectra at all points in ROI; <<experiment>>\n",
    "      :EDX spectrum for each point; <<raw_data>>\n",
    "      :Analyse composition (automatic) //e.g.//:\\nno. counts for element 1 > x; <<data_processing>>\n",
    "    end group\n",
    "  end split\n",
    "  :Assign phase and orientation to each point\\n(automatic); <<data_processing>>\n",
    "  :Euler angles and phase ID\\nfor each point in map; <<final_data>>\n",
    "  :Analysis of orientations (user controlled); <<data_processing>>\n",
    "  :Orientation maps, Pole figures\\nQuantitative measures //e.g.// grain size; <<final_data>>\n",
    "  detach\n",
    "end group\n",
    "@enduml\n",
    "```\n"
   ]
  },
  {
   "cell_type": "markdown",
   "id": "b80ab5b7-df72-4d20-a04d-514aff94dffe",
   "metadata": {},
   "source": [
    "<br>\n",
    "\n",
    "- In the above code, line 6 now additionally contains `[[./json_SEM_metadata_with_highlights.svg{View metadata}]]`. This is located at the beginning of the line *before* the definition of the activity element and therefore the link applies to the whole element. After the two square brackets, the hyperlink is defined. The hyperlink to a local file can be an absolute path or a relative path with respect to the location of the final diagram file (rather than the puml source code). Anything in curly braces after the link definition will appear as a tooltip when the user hovers the mouse over the element.\n",
    "\n",
    "- In line 10, the title of the group `EBSD` has been wrapped in the link definition: `[[./chada_tables_SEM-EBSD.svg{View EBSD CHADA}EBSD]]`. This means that the hyperlink applies to the text `EBSD` *i.e.* to the title of the group, rather than to the whole group element. Again we have specified a relative path to a local file, some text for the tooltip, and this time, additionally the text for the link, which will appear underlined in the diagram.\n",
    "\n",
    "- As we have used relative links, as long as the three images are in the same folder, the links will always work.\n",
    "\n",
    "- Whatever operating system we use, we specify links using posix paths *i.e.* with forward slashes.\n",
    "\n",
    "- For more information on using hyperlinks in plantuml diagrams, see [here](https://plantuml.com/link)"
   ]
  },
  {
   "cell_type": "markdown",
   "id": "5c6bfb26-fc3a-46df-b1be-f1242ffc007b",
   "metadata": {},
   "source": [
    "Let's write (remembering to double escape newline characteres in multiline Python strings) and run this code to see what the diagram looks like:"
   ]
  },
  {
   "cell_type": "code",
   "execution_count": 7,
   "id": "6805b74a-040f-4864-9e58-66fd22446d71",
   "metadata": {},
   "outputs": [],
   "source": [
    "puml_code = \"\"\"@startuml\n",
    "!theme MOCHADA-plasma from ../../themes\n",
    ":Bulk sample or thin film; <<user_case>>\n",
    "group SEM-EBSD-EDX <<group_collection>>\n",
    "  :Set up experimental geometry:\\\\n sample tilt (<U+00B0>), working distance (mm),\\\\ndetector distance (mm); <<experiment>>\n",
    "  [[./json_SEM_metadata_with_highlights.svg{View metadata}]]:Acquire electron image (SE, BSE, FSE); <<experiment>>\n",
    "  :Electron image(s); <<raw_data>>\n",
    "  :Define rectangular ROI, step size,\\\\ndetector and indexing parameters; <<experiment>>\n",
    "  split\n",
    "    group \"[[./chada_tables_SEM-EBSD.svg{View EBSD CHADA} EBSD]]\" <<group_single>>\n",
    "      :Acquire EBSD patterns at all points in ROI; <<experiment>>\n",
    "      :EBSD pattern for each point; <<raw_data>>\n",
    "      :Hough indexing (automatic); <<data_processing>>\n",
    "    end group\n",
    "  split again\n",
    "    group EDX <<group_single>>\n",
    "      :Acquire EDX spectra at all points in ROI; <<experiment>>\n",
    "      :EDX spectrum for each point; <<raw_data>>\n",
    "      :Analyse composition (automatic) //e.g.//:\\\\nno. counts for element 1 > x; <<data_processing>>\n",
    "    end group\n",
    "  end split\n",
    "  :Assign phase and orientation to each point\\\\n(automatic); <<data_processing>>\n",
    "  :Euler angles and phase ID\\\\nfor each point in map; <<final_data>>\n",
    "  :Analysis of orientations (user controlled); <<data_processing>>\n",
    "  :Orientation maps, Pole figures\\\\nQuantitative measures //e.g.// grain size; <<final_data>>\n",
    "  detach\n",
    "end group\n",
    "@enduml\n",
    "\"\"\"\n",
    "\n",
    "out_file = pathlib.Path(\n",
    "    \"../gallery/puml_code/chada_workflow_SEM_EBSD_EDX_nested_techniques_with_hyperlinks.puml\"\n",
    ")\n",
    "\n",
    "with open(out_file, \"w\") as handle:\n",
    "    handle.write(puml_code)"
   ]
  },
  {
   "cell_type": "code",
   "execution_count": 8,
   "id": "6bbe0034-f385-409a-a4ea-2ebc9d1e695e",
   "metadata": {},
   "outputs": [],
   "source": [
    "mr.run_plantuml_code(\n",
    "    pathlib.Path(\n",
    "        \"../gallery/puml_code/chada_workflow_SEM_EBSD_EDX_nested_techniques_with_hyperlinks.puml\"\n",
    "    ),\n",
    "    output_dir=pathlib.Path(\"../\"),\n",
    ")"
   ]
  },
  {
   "cell_type": "code",
   "execution_count": 9,
   "id": "98587c13-2284-4dfc-b02f-2c17b3ae7c72",
   "metadata": {},
   "outputs": [
    {
     "data": {
      "image/svg+xml": [
       "<svg xmlns=\"http://www.w3.org/2000/svg\" xmlns:xlink=\"http://www.w3.org/1999/xlink\" contentStyleType=\"text/css\" height=\"910px\" preserveAspectRatio=\"none\" style=\"width:597px;height:910px;background:#FFFFFF;\" version=\"1.1\" viewBox=\"0 0 597 910\" width=\"597px\" zoomAndPan=\"magnify\"><defs/><g><rect fill=\"#0D0887\" height=\"35.0938\" rx=\"12.5\" ry=\"12.5\" style=\"stroke:#181818;stroke-width:0.5;\" width=\"149\" x=\"224\" y=\"11\"/><text fill=\"#FFFFFF\" font-family=\"sans-serif\" font-size=\"12\" lengthAdjust=\"spacing\" textLength=\"129\" x=\"234\" y=\"33.457\">Bulk sample or thin film</text><rect fill=\"#C0C0C0\" height=\"843.5469\" rx=\"5\" ry=\"5\" style=\"stroke:#0000CD;stroke-width:1.5;\" width=\"575\" x=\"11\" y=\"56.0938\"/><path d=\"M124,56.0938 L124,66.7031 L114,76.7031 L11,76.7031 \" fill=\"none\" style=\"stroke:#0000CD;stroke-width:1.5;\"/><text fill=\"#0000CD\" font-family=\"sans-serif\" font-size=\"14\" lengthAdjust=\"spacing\" textLength=\"103\" x=\"14\" y=\"71.627\">SEM-EBSD-EDX</text><rect fill=\"#9C179E\" height=\"65.2813\" rx=\"12.5\" ry=\"12.5\" style=\"stroke:#181818;stroke-width:0.5;\" width=\"231\" x=\"183\" y=\"93.7031\"/><text fill=\"#FFFFFF\" font-family=\"sans-serif\" font-size=\"12\" lengthAdjust=\"spacing\" textLength=\"166\" x=\"215.5\" y=\"116.1602\">Set up experimental geometry:</text><text fill=\"#FFFFFF\" font-family=\"sans-serif\" font-size=\"12\" lengthAdjust=\"spacing\" textLength=\"208\" x=\"196\" y=\"131.2539\">sample tilt (°), working distance (mm),</text><text fill=\"#FFFFFF\" font-family=\"sans-serif\" font-size=\"12\" lengthAdjust=\"spacing\" textLength=\"127\" x=\"235\" y=\"146.3477\">detector distance (mm)</text><a href=\"./json_SEM_metadata_with_highlights.svg\" target=\"_top\" title=\"View metadata\" xlink:actuate=\"onRequest\" xlink:href=\"./json_SEM_metadata_with_highlights.svg\" xlink:show=\"new\" xlink:title=\"View metadata\" xlink:type=\"simple\"><rect fill=\"#9C179E\" height=\"35.0938\" rx=\"12.5\" ry=\"12.5\" style=\"stroke:#181818;stroke-width:0.5;\" width=\"232\" x=\"182.5\" y=\"178.9844\"/><text fill=\"#FFFFFF\" font-family=\"sans-serif\" font-size=\"12\" lengthAdjust=\"spacing\" textLength=\"212\" x=\"192.5\" y=\"201.4414\">Acquire electron image (SE, BSE, FSE)</text></a><rect fill=\"#ED7953\" height=\"35.0938\" rx=\"12.5\" ry=\"12.5\" style=\"stroke:#181818;stroke-width:0.5;\" width=\"118\" x=\"239.5\" y=\"234.0781\"/><text fill=\"#FFFFFF\" font-family=\"sans-serif\" font-size=\"12\" lengthAdjust=\"spacing\" textLength=\"98\" x=\"249.5\" y=\"256.5352\">Electron image(s)</text><rect fill=\"#9C179E\" height=\"50.1875\" rx=\"12.5\" ry=\"12.5\" style=\"stroke:#181818;stroke-width:0.5;\" width=\"204\" x=\"196.5\" y=\"289.1719\"/><text fill=\"#FFFFFF\" font-family=\"sans-serif\" font-size=\"12\" lengthAdjust=\"spacing\" textLength=\"183\" x=\"207\" y=\"311.6289\">Define rectangular ROI, step size,</text><text fill=\"#FFFFFF\" font-family=\"sans-serif\" font-size=\"12\" lengthAdjust=\"spacing\" textLength=\"184\" x=\"206.5\" y=\"326.7227\">detector and indexing parameters</text><line style=\"stroke:#181818;stroke-width:1.5;\" x1=\"157\" x2=\"446.5\" y1=\"359.3594\" y2=\"359.3594\"/><rect fill=\"#F5F5DC\" height=\"217.5313\" rx=\"5\" ry=\"5\" style=\"stroke:#1E90FF;stroke-width:1.5;\" width=\"268\" x=\"23\" y=\"376.9063\"/><path d=\"M70,376.9063 L70,387.5156 L60,397.5156 L23,397.5156 \" fill=\"none\" style=\"stroke:#1E90FF;stroke-width:1.5;\"/><a href=\"./chada_tables_SEM-EBSD.svg\" target=\"_top\" title=\"View EBSD CHADA\" xlink:actuate=\"onRequest\" xlink:href=\"./chada_tables_SEM-EBSD.svg\" xlink:show=\"new\" xlink:title=\"View EBSD CHADA\" xlink:type=\"simple\"><text fill=\"#1E90FF\" font-family=\"sans-serif\" font-size=\"14\" lengthAdjust=\"spacing\" text-decoration=\"underline\" textLength=\"37\" x=\"26\" y=\"392.4395\">EBSD</text></a><rect fill=\"#9C179E\" height=\"35.0938\" rx=\"12.5\" ry=\"12.5\" style=\"stroke:#181818;stroke-width:0.5;\" width=\"248\" x=\"33\" y=\"414.5156\"/><text fill=\"#FFFFFF\" font-family=\"sans-serif\" font-size=\"12\" lengthAdjust=\"spacing\" textLength=\"228\" x=\"43\" y=\"436.9727\">Acquire EBSD patterns at all points in ROI</text><rect fill=\"#ED7953\" height=\"35.0938\" rx=\"12.5\" ry=\"12.5\" style=\"stroke:#181818;stroke-width:0.5;\" width=\"171\" x=\"71.5\" y=\"477.1563\"/><text fill=\"#FFFFFF\" font-family=\"sans-serif\" font-size=\"12\" lengthAdjust=\"spacing\" textLength=\"151\" x=\"81.5\" y=\"499.6133\">EBSD pattern for each point</text><rect fill=\"#F0F921\" height=\"35.0938\" rx=\"12.5\" ry=\"12.5\" style=\"stroke:#181818;stroke-width:0.5;\" width=\"171\" x=\"71.5\" y=\"539.7969\"/><text fill=\"#000000\" font-family=\"sans-serif\" font-size=\"12\" lengthAdjust=\"spacing\" textLength=\"151\" x=\"81.5\" y=\"562.2539\">Hough indexing (automatic)</text><rect fill=\"#F5F5DC\" height=\"232.625\" rx=\"5\" ry=\"5\" style=\"stroke:#1E90FF;stroke-width:1.5;\" width=\"255\" x=\"319\" y=\"369.3594\"/><path d=\"M356,369.3594 L356,379.9688 L346,389.9688 L319,389.9688 \" fill=\"none\" style=\"stroke:#1E90FF;stroke-width:1.5;\"/><text fill=\"#1E90FF\" font-family=\"sans-serif\" font-size=\"14\" lengthAdjust=\"spacing\" textLength=\"27\" x=\"322\" y=\"384.8926\">EDX</text><rect fill=\"#9C179E\" height=\"35.0938\" rx=\"12.5\" ry=\"12.5\" style=\"stroke:#181818;stroke-width:0.5;\" width=\"235\" x=\"329\" y=\"406.9688\"/><text fill=\"#FFFFFF\" font-family=\"sans-serif\" font-size=\"12\" lengthAdjust=\"spacing\" textLength=\"215\" x=\"339\" y=\"429.4258\">Acquire EDX spectra at all points in ROI</text><rect fill=\"#ED7953\" height=\"35.0938\" rx=\"12.5\" ry=\"12.5\" style=\"stroke:#181818;stroke-width:0.5;\" width=\"176\" x=\"358.5\" y=\"469.6094\"/><text fill=\"#FFFFFF\" font-family=\"sans-serif\" font-size=\"12\" lengthAdjust=\"spacing\" textLength=\"156\" x=\"368.5\" y=\"492.0664\">EDX spectrum for each point</text><rect fill=\"#F0F921\" height=\"50.1875\" rx=\"12.5\" ry=\"12.5\" style=\"stroke:#181818;stroke-width:0.5;\" width=\"225\" x=\"334\" y=\"532.25\"/><text fill=\"#000000\" font-family=\"sans-serif\" font-size=\"12\" lengthAdjust=\"spacing\" textLength=\"179\" x=\"344\" y=\"554.707\">Analyse composition (automatic)</text><text fill=\"#000000\" font-family=\"sans-serif\" font-size=\"12\" font-style=\"italic\" lengthAdjust=\"spacing\" textLength=\"20\" x=\"526\" y=\"554.707\">e.g.</text><text fill=\"#000000\" font-family=\"sans-serif\" font-size=\"12\" lengthAdjust=\"spacing\" textLength=\"3\" x=\"546\" y=\"554.707\">:</text><text fill=\"#000000\" font-family=\"sans-serif\" font-size=\"12\" lengthAdjust=\"spacing\" textLength=\"150\" x=\"371.5\" y=\"569.8008\">no. counts for element 1 &gt; x</text><line style=\"stroke:#181818;stroke-width:1.5;\" x1=\"157\" x2=\"446.5\" y1=\"621.9844\" y2=\"621.9844\"/><rect fill=\"#F0F921\" height=\"50.1875\" rx=\"12.5\" ry=\"12.5\" style=\"stroke:#181818;stroke-width:0.5;\" width=\"254\" x=\"171.5\" y=\"641.9844\"/><text fill=\"#000000\" font-family=\"sans-serif\" font-size=\"12\" lengthAdjust=\"spacing\" textLength=\"234\" x=\"181.5\" y=\"664.4414\">Assign phase and orientation to each point</text><text fill=\"#000000\" font-family=\"sans-serif\" font-size=\"12\" lengthAdjust=\"spacing\" textLength=\"62\" x=\"267.5\" y=\"679.5352\">(automatic)</text><rect fill=\"#F0F921\" height=\"50.1875\" rx=\"12.5\" ry=\"12.5\" style=\"stroke:#0000FF;stroke-width:2.0;\" width=\"167\" x=\"215\" y=\"712.1719\"/><text fill=\"#000000\" font-family=\"sans-serif\" font-size=\"12\" lengthAdjust=\"spacing\" textLength=\"147\" x=\"225\" y=\"734.6289\">Euler angles and phase ID</text><text fill=\"#000000\" font-family=\"sans-serif\" font-size=\"12\" lengthAdjust=\"spacing\" textLength=\"115\" x=\"241\" y=\"749.7227\">for each point in map</text><rect fill=\"#F0F921\" height=\"35.0938\" rx=\"12.5\" ry=\"12.5\" style=\"stroke:#181818;stroke-width:0.5;\" width=\"240\" x=\"178.5\" y=\"782.3594\"/><text fill=\"#000000\" font-family=\"sans-serif\" font-size=\"12\" lengthAdjust=\"spacing\" textLength=\"220\" x=\"188.5\" y=\"804.8164\">Analysis of orientations (user controlled)</text><rect fill=\"#F0F921\" height=\"50.1875\" rx=\"12.5\" ry=\"12.5\" style=\"stroke:#0000FF;stroke-width:2.0;\" width=\"223\" x=\"187\" y=\"837.4531\"/><text fill=\"#000000\" font-family=\"sans-serif\" font-size=\"12\" lengthAdjust=\"spacing\" textLength=\"167\" x=\"215\" y=\"859.9102\">Orientation maps, Pole figures</text><text fill=\"#000000\" font-family=\"sans-serif\" font-size=\"12\" lengthAdjust=\"spacing\" textLength=\"124\" x=\"197\" y=\"875.0039\">Quantitative measures</text><text fill=\"#000000\" font-family=\"sans-serif\" font-size=\"12\" font-style=\"italic\" lengthAdjust=\"spacing\" textLength=\"20\" x=\"324\" y=\"875.0039\">e.g.</text><text fill=\"#000000\" font-family=\"sans-serif\" font-size=\"12\" lengthAdjust=\"spacing\" textLength=\"53\" x=\"347\" y=\"875.0039\">grain size</text><line style=\"stroke:#181818;stroke-width:1.0;\" x1=\"298.5\" x2=\"298.5\" y1=\"158.9844\" y2=\"178.9844\"/><polygon fill=\"#181818\" points=\"294.5,168.9844,298.5,178.9844,302.5,168.9844,298.5,172.9844\" style=\"stroke:#181818;stroke-width:1.0;\"/><line style=\"stroke:#181818;stroke-width:1.0;\" x1=\"298.5\" x2=\"298.5\" y1=\"214.0781\" y2=\"234.0781\"/><polygon fill=\"#181818\" points=\"294.5,224.0781,298.5,234.0781,302.5,224.0781,298.5,228.0781\" style=\"stroke:#181818;stroke-width:1.0;\"/><line style=\"stroke:#181818;stroke-width:1.0;\" x1=\"298.5\" x2=\"298.5\" y1=\"269.1719\" y2=\"289.1719\"/><polygon fill=\"#181818\" points=\"294.5,279.1719,298.5,289.1719,302.5,279.1719,298.5,283.1719\" style=\"stroke:#181818;stroke-width:1.0;\"/><line style=\"stroke:#181818;stroke-width:1.0;\" x1=\"157\" x2=\"157\" y1=\"449.6094\" y2=\"477.1563\"/><polygon fill=\"#181818\" points=\"153,467.1563,157,477.1563,161,467.1563,157,471.1563\" style=\"stroke:#181818;stroke-width:1.0;\"/><line style=\"stroke:#181818;stroke-width:1.0;\" x1=\"157\" x2=\"157\" y1=\"512.25\" y2=\"539.7969\"/><polygon fill=\"#181818\" points=\"153,529.7969,157,539.7969,161,529.7969,157,533.7969\" style=\"stroke:#181818;stroke-width:1.0;\"/><line style=\"stroke:#181818;stroke-width:1.0;\" x1=\"446.5\" x2=\"446.5\" y1=\"442.0625\" y2=\"469.6094\"/><polygon fill=\"#181818\" points=\"442.5,459.6094,446.5,469.6094,450.5,459.6094,446.5,463.6094\" style=\"stroke:#181818;stroke-width:1.0;\"/><line style=\"stroke:#181818;stroke-width:1.0;\" x1=\"446.5\" x2=\"446.5\" y1=\"504.7031\" y2=\"532.25\"/><polygon fill=\"#181818\" points=\"442.5,522.25,446.5,532.25,450.5,522.25,446.5,526.25\" style=\"stroke:#181818;stroke-width:1.0;\"/><line style=\"stroke:#181818;stroke-width:1.0;\" x1=\"157\" x2=\"157\" y1=\"360.8594\" y2=\"414.5156\"/><polygon fill=\"#181818\" points=\"153,404.5156,157,414.5156,161,404.5156,157,408.5156\" style=\"stroke:#181818;stroke-width:1.0;\"/><line style=\"stroke:#181818;stroke-width:1.0;\" x1=\"446.5\" x2=\"446.5\" y1=\"360.8594\" y2=\"406.9688\"/><polygon fill=\"#181818\" points=\"442.5,396.9688,446.5,406.9688,450.5,396.9688,446.5,400.9688\" style=\"stroke:#181818;stroke-width:1.0;\"/><line style=\"stroke:#181818;stroke-width:1.0;\" x1=\"157\" x2=\"157\" y1=\"574.8906\" y2=\"621.9844\"/><polygon fill=\"#181818\" points=\"153,611.9844,157,621.9844,161,611.9844,157,615.9844\" style=\"stroke:#181818;stroke-width:1.0;\"/><line style=\"stroke:#181818;stroke-width:1.0;\" x1=\"446.5\" x2=\"446.5\" y1=\"582.4375\" y2=\"621.9844\"/><polygon fill=\"#181818\" points=\"442.5,611.9844,446.5,621.9844,450.5,611.9844,446.5,615.9844\" style=\"stroke:#181818;stroke-width:1.0;\"/><line style=\"stroke:#181818;stroke-width:1.0;\" x1=\"298.5\" x2=\"298.5\" y1=\"339.3594\" y2=\"359.3594\"/><polygon fill=\"#181818\" points=\"294.5,349.3594,298.5,359.3594,302.5,349.3594,298.5,353.3594\" style=\"stroke:#181818;stroke-width:1.0;\"/><line style=\"stroke:#181818;stroke-width:1.0;\" x1=\"298.5\" x2=\"298.5\" y1=\"623.4844\" y2=\"641.9844\"/><polygon fill=\"#181818\" points=\"294.5,631.9844,298.5,641.9844,302.5,631.9844,298.5,635.9844\" style=\"stroke:#181818;stroke-width:1.0;\"/><line style=\"stroke:#181818;stroke-width:1.0;\" x1=\"298.5\" x2=\"298.5\" y1=\"692.1719\" y2=\"712.1719\"/><polygon fill=\"#181818\" points=\"294.5,702.1719,298.5,712.1719,302.5,702.1719,298.5,706.1719\" style=\"stroke:#181818;stroke-width:1.0;\"/><line style=\"stroke:#181818;stroke-width:1.0;\" x1=\"298.5\" x2=\"298.5\" y1=\"762.3594\" y2=\"782.3594\"/><polygon fill=\"#181818\" points=\"294.5,772.3594,298.5,782.3594,302.5,772.3594,298.5,776.3594\" style=\"stroke:#181818;stroke-width:1.0;\"/><line style=\"stroke:#181818;stroke-width:1.0;\" x1=\"298.5\" x2=\"298.5\" y1=\"817.4531\" y2=\"837.4531\"/><polygon fill=\"#181818\" points=\"294.5,827.4531,298.5,837.4531,302.5,827.4531,298.5,831.4531\" style=\"stroke:#181818;stroke-width:1.0;\"/><line style=\"stroke:#181818;stroke-width:1.0;\" x1=\"298.5\" x2=\"298.5\" y1=\"46.0938\" y2=\"93.7031\"/><polygon fill=\"#181818\" points=\"294.5,83.7031,298.5,93.7031,302.5,83.7031,298.5,87.7031\" style=\"stroke:#181818;stroke-width:1.0;\"/><!--SRC=[bLJRRjD047tlLmnzIaNgb5TJHKg8KVjG5OX0I4ra3Sx4NheNixDk2gZ_pko6fAv8fH8vlfwPEUVipBuA3Hc2g-jt5vFPvBJLo0PXxPs1B1l9aRxpKJxjz2qmcbOJE0-XKHRMIfktS7xUCVcoGgRn-AZshcjXNboT5jFvxBIOVHL0UbbMJckgWd9MS03vd088bkvRyigG3QYX9cSe-9_vmkwg1QK33Cu_lpuxcvwDJuQmSVvMsHfMYWFQYc1WpCbmOLSK9BsGU_8X4dmiaIhVt6IZx-niAJHBAOSh35XkL6ZAHjMDbd_WZE_gtryKRM27U5WkyqdrerEUWA8IxomeWxKKcXT3cCRJ-tbng6HUF0aOS09vt9GnynOoexMo15w0QEjEeuTFrvT3u40jiFf5VOreLw3ayJuwqQ97OKcU3vJcLgiWLu3jsXn7-LKZaig0tpHnkLkjHydn2L9BFAJxvV9ulumi5JMbrF6tjoJ5j1Y4XcN00AWrj4xPmC8qIZb0BcNeHy9Qn15MpJRq7vTIm8NhwkPH_W2xu0m6LILNqsgstbN4aUlVC1B3ae2T9O0rAjipfj-hpueK3BTnAV7_9ExZElCYYHEB-YSJLCwqZbMSchvE68qegxFHI0R5kanWNIIHCckAjU4DZE7-PNx4-rsRv1D1rHRQHWOwjPdpAWvdeX1SZ_d2li3vlEWqnNuLFpdbssQ-d2tiKoEYXGRRc4W60NLlDBPkA0QtxjDX6CIzHzHRcItPNLRFqxZkgP0gF8GFJdQNjQexJxom7pkqGKN07Sd88yVNUvl5AccMD8K7-CbKYegZlQL_0000]--></g></svg>"
      ],
      "text/plain": [
       "<IPython.core.display.SVG object>"
      ]
     },
     "metadata": {},
     "output_type": "display_data"
    }
   ],
   "source": [
    "display(\n",
    "    SVG(\n",
    "        filename=\"../gallery/chada_workflow_SEM_EBSD_EDX_nested_techniques_with_hyperlinks.svg\"\n",
    "    )\n",
    ")"
   ]
  },
  {
   "cell_type": "markdown",
   "id": "0874cdcc-02b4-4d0a-b387-11ec156e1940",
   "metadata": {},
   "source": [
    "- The only difference in the appearance of the diagram is that the name of the single technique group \"EBSD\" is now underlined, to show that it is a hyperlink.\n",
    "- **unfortunately, the hyperlinks don't work when the diagram is displayed in a jupyter notebook**\n",
    "- **please open the file `chada_kit/gallery/chada_workflow_SEM_EBSD_EDX_nested_techniques_with_hyperlinks.svg` in your browser to try the links**\n",
    "- you should see that clicking the element `Acquire electron images` takes you to a json diagram showing the metadata with highlights, and that clicking the name of the single technique group `EBSD` takes you to a json diagram showing the CHADA tables for EBSD\n",
    "- the links open in the same tab with these settings, but this behaviour can be changed, see [here](https://plantuml.com/link)"
   ]
  }
 ],
 "metadata": {
  "kernelspec": {
   "display_name": "Python 3 (ipykernel)",
   "language": "python",
   "name": "python3"
  },
  "language_info": {
   "codemirror_mode": {
    "name": "ipython",
    "version": 3
   },
   "file_extension": ".py",
   "mimetype": "text/x-python",
   "name": "python",
   "nbconvert_exporter": "python",
   "pygments_lexer": "ipython3",
   "version": "3.13.0"
  }
 },
 "nbformat": 4,
 "nbformat_minor": 5
}
