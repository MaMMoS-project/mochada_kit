{
 "cells": [
  {
   "cell_type": "markdown",
   "id": "e589b7a0-ce9a-4878-b394-d46179570dec",
   "metadata": {},
   "source": [
    "# **Generating a plantuml json diagram using metadata extracted from an hdf5 file**"
   ]
  },
  {
   "cell_type": "markdown",
   "id": "a7d61b64-942e-4d57-a681-d4c2f91c40b6",
   "metadata": {},
   "source": [
    "- metadata are commonly found in groups within hdf5 files\n",
    "  \n",
    "- typically we have name/value pairs of metadata, which is very similar to the json ([javascript object notation](https://en.wikipedia.org/wiki/JSON)) format\n",
    "  \n",
    "- plantuml has a great option to [plot json data](https://plantuml.com/json) in an attractive, easy to read way.\n",
    "  \n",
    "- mochada_kit has convenience functions for extracting metadata from hdf5 files and plotting it as a json diagram with plantuml"
   ]
  },
  {
   "cell_type": "markdown",
   "id": "502c548d-880e-41df-9834-3794a2d3b900",
   "metadata": {},
   "source": [
    "<br>\n",
    "\n",
    "Let's import `pathlib` to help us with file paths in a platform independent way:"
   ]
  },
  {
   "cell_type": "code",
   "execution_count": 1,
   "id": "ee610d08-1f95-4f1d-baee-757761c9e015",
   "metadata": {},
   "outputs": [],
   "source": [
    "import pathlib"
   ]
  },
  {
   "cell_type": "markdown",
   "id": "ead50d64-9fe7-4d42-aa78-a9eb2ee23b40",
   "metadata": {},
   "source": [
    "<br>\n",
    "\n",
    "Then, let's import the module `hdf5_metadata_tools` from `mochada_kit`. This helps us to write the puml code for the diagrams. We import the module `running`, which we will use to run the puml code against plantuml.jar to generate the diagrams."
   ]
  },
  {
   "cell_type": "code",
   "execution_count": 2,
   "id": "bded8d0f-0759-4907-8e03-4311b4d362fb",
   "metadata": {},
   "outputs": [],
   "source": [
    "import mochada_kit.hdf5_metadata_tools as hmt\n",
    "import mochada_kit.running as mr"
   ]
  },
  {
   "cell_type": "markdown",
   "id": "ca77847a-3667-4e88-a607-4ccfe740b1ad",
   "metadata": {},
   "source": [
    "<br>\n",
    "\n",
    "- The `mochada_kit/data` directory has example file which we can use: `ebsd_header.h5oina`. As the name suggests, this only contains the header from an EBSD data set, in order to keep the file size small. The h5oina data structure is used by Oxford Instruments and is an open format available on [github](https://github.com/oinanoanalysis/h5oina/blob/master/H5OINAFile.md).\n",
    "\n",
    "- The functions in `mochada_kit.hdf5_metadata_tools` work with hdf5 files with *any* data structure.\n",
    "\n",
    "- If you want to inspect the structure of your hdf5 file, you can use the lightweight, Python-based viewer: [hdf5view](https://github.com/marts/hdf5view)."
   ]
  },
  {
   "cell_type": "markdown",
   "id": "61e0269d-9a23-47f6-b9a8-146e6fc3393f",
   "metadata": {},
   "source": [
    "<br>\n",
    "\n",
    "**In the following examples, we will extract and plot the metadata found in the group `\"1/EBSD/Header\"` in the file `mochada_kit/data/ebsd_header.h5oina`**"
   ]
  },
  {
   "cell_type": "markdown",
   "id": "ab67947f-4149-4d5b-a2c3-19ea87063448",
   "metadata": {},
   "source": [
    "<br>\n",
    "\n",
    "### 1. Basic Example\n",
    "\n",
    "To extract the metadata at the group `\"1/EBSD/Header\"` and write it to puml code, we call the function `write_puml_code_for_hdf5_metadata()` with the following four arguments:\n",
    "\n",
    "1. the path to the hdf5 file\n",
    "2. the path **within** the hdf5 file pointing to the metadata *i.e.* `\"1/EBSD/Header\"`\n",
    "3. the output path (**without a file extension**) where the resulting .puml file will be saved (we will save it in  `mochada_kit/gallery/puml_code`)\n",
    "4. the optional argument: `save_json_and_load=False`. Specifying this means that the metadata from the hdf5 file will be written directly into the puml code. If we do not specify this, the metadata is saved to a json file and the puml code loads the metdata from json.\n"
   ]
  },
  {
   "cell_type": "code",
   "execution_count": 3,
   "id": "b4b78356-2cd1-4809-ab18-7247ca9e0765",
   "metadata": {},
   "outputs": [],
   "source": [
    "hmt.write_puml_code_for_hdf5_metadata(\n",
    "    pathlib.Path(r\"../data/ebsd_header.h5oina\"),\n",
    "    \"1/EBSD/Header\",\n",
    "    pathlib.Path(r\"../gallery/puml_code/hdf5_metadata_json_1_no_HL\"),\n",
    "    save_json_and_load=False,\n",
    ")"
   ]
  },
  {
   "cell_type": "markdown",
   "id": "302e1fc4-ea9c-45c9-b032-fb38cf58ab79",
   "metadata": {},
   "source": [
    "Having written the puml code, we can run it like this to generate the json diagram as an svg image, which will be stored in `mochada_kit/gallery`:"
   ]
  },
  {
   "cell_type": "code",
   "execution_count": 4,
   "id": "c7cac48a-e536-447f-bf11-47d46ee18475",
   "metadata": {},
   "outputs": [],
   "source": [
    "mr.run_plantuml_code(\n",
    "    pathlib.Path(r\"../gallery/puml_code/hdf5_metadata_json_1_no_HL.puml\"),\n",
    "    output_dir=pathlib.Path(\"../\"),\n",
    ")"
   ]
  },
  {
   "cell_type": "markdown",
   "id": "2ffd203d-8617-4281-a005-8ea74c10eba3",
   "metadata": {},
   "source": [
    "This results in the following diagram:\n",
    "\n",
    "<img src=../gallery/hdf5_metadata_json_1_no_HL.svg>"
   ]
  },
  {
   "cell_type": "markdown",
   "id": "ad0e270a-7c44-483f-8c1b-8d15749f1288",
   "metadata": {},
   "source": [
    "<br>\n",
    "\n",
    "### 2. Example with Default Highlights\n",
    "\n",
    "If we want to highlight one or more items in the diagram using the [default highlight settings given in plantuml](https://plantuml.com/json#1b6b8d6c715c3de9), we can define a list of paths within the hdf5 file to the desired items like this:"
   ]
  },
  {
   "cell_type": "code",
   "execution_count": 5,
   "id": "0263acde-2297-4650-a60e-f32b7896c462",
   "metadata": {},
   "outputs": [],
   "source": [
    "highlights_default = [\n",
    "    \"1/EBSD/Header/Phases/1/Lattice Dimensions\",\n",
    "    \"1/EBSD/Header/Phases/1/Phase Name\",\n",
    "]"
   ]
  },
  {
   "cell_type": "markdown",
   "id": "1de0b064-a2c3-4d67-97e6-477d4d614e75",
   "metadata": {},
   "source": [
    "Then we can additionally supply this argument to the function `write_puml_code_for_hdf5_metadata()` like this:"
   ]
  },
  {
   "cell_type": "code",
   "execution_count": 6,
   "id": "7b94d9f6-1988-4a5e-bc35-d2d0d8cae865",
   "metadata": {},
   "outputs": [],
   "source": [
    "hmt.write_puml_code_for_hdf5_metadata(\n",
    "    pathlib.Path(r\"../data/ebsd_header.h5oina\"),\n",
    "    \"1/EBSD/Header\",\n",
    "    pathlib.Path(r\"../gallery/puml_code/hdf5_metadata_json_2_default_HL\"),\n",
    "    save_json_and_load=False,\n",
    "    highlights=highlights_default,\n",
    ")"
   ]
  },
  {
   "cell_type": "markdown",
   "id": "2293cd76-8e38-40be-b478-3b97911a1b1e",
   "metadata": {},
   "source": [
    "And run the puml code:"
   ]
  },
  {
   "cell_type": "code",
   "execution_count": 7,
   "id": "5afb6eda-f87f-4835-98ac-50da0be8545b",
   "metadata": {},
   "outputs": [],
   "source": [
    "mr.run_plantuml_code(\n",
    "    pathlib.Path(r\"../gallery/puml_code/hdf5_metadata_json_2_default_HL.puml\"),\n",
    "    output_dir=pathlib.Path(\"../\"),\n",
    ")"
   ]
  },
  {
   "cell_type": "markdown",
   "id": "4933261f-229f-4fef-a5d8-71ea87d2299f",
   "metadata": {},
   "source": [
    "This results in the following diagram:\n",
    "\n",
    "<img src=../gallery/hdf5_metadata_json_2_default_HL.svg>"
   ]
  },
  {
   "cell_type": "markdown",
   "id": "66604acc-987a-427e-926e-16b0af625a54",
   "metadata": {},
   "source": [
    "<br>\n",
    "\n",
    "### 3. Example with Bespoke Highlights\n",
    "\n",
    "If we want to define our own highlight styles and apply them to particular elements, we need to define **two** things:\n",
    "\n",
    "1. a [css style block](https://plantuml.com/style-evolution) defining the styles we want to apply\n",
    "2. a *dict* of highlights where the keys are the paths within the hdf5 file to the desired item, and the values are the names of the highlights we want to apply to that item"
   ]
  },
  {
   "cell_type": "markdown",
   "id": "df28c817-4825-4ff9-b767-bf8b194f482e",
   "metadata": {},
   "source": [
    "**1. css style block**\n",
    "\n",
    "This is a multi-line string. \".h1\" and \".h2\" are the two different highlight styles we want to define. Then you can apply various parameters *e.g.* BackGroundColor, see [here](https://plantuml.com/style-evolution) for further details of available parameters."
   ]
  },
  {
   "cell_type": "code",
   "execution_count": 8,
   "id": "8b1347eb-72cf-4801-82a0-7ce143f9a493",
   "metadata": {},
   "outputs": [],
   "source": [
    "my_highlight_style = \"\"\"<style>\n",
    "  .h1 {\n",
    "    BackGroundColor green\n",
    "    FontColor white\n",
    "    FontStyle italic\n",
    "  }\n",
    "  .h2 {\n",
    "    BackGroundColor red\n",
    "    FontColor white\n",
    "    FontStyle bold\n",
    "  }\n",
    "</style>\"\"\""
   ]
  },
  {
   "cell_type": "markdown",
   "id": "3e1f81e8-72df-4de1-8824-0cd78d3e2519",
   "metadata": {},
   "source": [
    "<br>\n",
    "\n",
    "**2. highlights dict**\n",
    "\n",
    "Now we define a dict where the keys are the paths within the hdf5 file to the desired item, and the values are the names of the highlights we want to apply to that item *e.g.* \\<\\<h1\\>\\> to apply the first highlight style defined above (.h1). Entering an empty string as a value will result in the default highlight style being applied to that element."
   ]
  },
  {
   "cell_type": "code",
   "execution_count": 9,
   "id": "7e54b243-e69e-4f09-85e9-fdce2e884432",
   "metadata": {},
   "outputs": [],
   "source": [
    "highlights_bespoke = {\n",
    "    \"1/EBSD/Header/Phases/1/Lattice Dimensions\": \"<<h1>>\",\n",
    "    \"1/EBSD/Header/Phases/1/Phase Name\": \"<<h2>>\",\n",
    "    \"1/EBSD/Header/Phases/1/Color\": \"\",\n",
    "}"
   ]
  },
  {
   "cell_type": "markdown",
   "id": "af6e45ba-d909-4f79-aa42-f5a3bcee1552",
   "metadata": {},
   "source": [
    "<br>\n",
    "\n",
    "Then we can supply these two arguments to the function `write_puml_code_for_hdf5_metadata()`"
   ]
  },
  {
   "cell_type": "code",
   "execution_count": 10,
   "id": "c3de1bc9-a654-43b6-a693-7d4829bd0ef3",
   "metadata": {},
   "outputs": [],
   "source": [
    "hmt.write_puml_code_for_hdf5_metadata(\n",
    "    pathlib.Path(r\"../data/ebsd_header.h5oina\"),\n",
    "    \"1/EBSD/Header\",\n",
    "    pathlib.Path(r\"../gallery/puml_code/hdf5_metadata_json_3_bespoke_HL\"),\n",
    "    save_json_and_load=False,\n",
    "    highlights=highlights_bespoke,\n",
    "    highlight_style=my_highlight_style,\n",
    ")"
   ]
  },
  {
   "cell_type": "markdown",
   "id": "52e1ca47-fe64-48dc-ae57-1df59285e33b",
   "metadata": {},
   "source": [
    "And run the puml code:"
   ]
  },
  {
   "cell_type": "code",
   "execution_count": 11,
   "id": "249f6d6d-fc08-45f8-97b8-96434df43c86",
   "metadata": {},
   "outputs": [],
   "source": [
    "mr.run_plantuml_code(\n",
    "    pathlib.Path(r\"../gallery/puml_code/hdf5_metadata_json_3_bespoke_HL.puml\"),\n",
    "    output_dir=pathlib.Path(\"../\"),\n",
    ")"
   ]
  },
  {
   "cell_type": "markdown",
   "id": "37b3628d-fba3-46c9-88ec-46fa58936ffa",
   "metadata": {},
   "source": [
    "This results in the following diagram:\n",
    "\n",
    "<img src=../gallery/hdf5_metadata_json_3_bespoke_HL.svg>"
   ]
  },
  {
   "cell_type": "code",
   "execution_count": null,
   "id": "56a76388-f761-441c-993c-2ed9c5953a30",
   "metadata": {},
   "outputs": [],
   "source": []
  }
 ],
 "metadata": {
  "kernelspec": {
   "display_name": "Python 3 (ipykernel)",
   "language": "python",
   "name": "python3"
  },
  "language_info": {
   "codemirror_mode": {
    "name": "ipython",
    "version": 3
   },
   "file_extension": ".py",
   "mimetype": "text/x-python",
   "name": "python",
   "nbconvert_exporter": "python",
   "pygments_lexer": "ipython3",
   "version": "3.12.2"
  }
 },
 "nbformat": 4,
 "nbformat_minor": 5
}
