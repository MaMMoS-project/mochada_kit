{
 "cells": [
  {
   "cell_type": "markdown",
   "id": "496f223e-f1d5-4fbb-a6f7-60865f89f6a7",
   "metadata": {},
   "source": [
    "# Generating bespoke MOCHADA themes for MODA and/or CHADA diagrams and tables"
   ]
  },
  {
   "cell_type": "markdown",
   "id": "db605c3c-aec6-4084-8909-3c0be83d0b8a",
   "metadata": {},
   "source": [
    "- This example shows how to generate several bespoke plantuml MOCHADA themes (*i.e.* for MODA and/or CHADA) with 4 or 5 different colours from various colormaps available in matplotlib.\n",
    "- These are all the MOCHADA themes in the `mochada_kit/themes`folder"
   ]
  },
  {
   "cell_type": "markdown",
   "id": "919c34eb-3fe8-4202-8987-41b17fc137df",
   "metadata": {},
   "source": [
    "First, we import the necessary modules:"
   ]
  },
  {
   "cell_type": "code",
   "execution_count": 1,
   "id": "c348099f-debe-4212-bedf-a9374c2d156a",
   "metadata": {},
   "outputs": [],
   "source": [
    "import pathlib\n",
    "\n",
    "import matplotlib as mpl\n",
    "import numpy as np"
   ]
  },
  {
   "cell_type": "markdown",
   "id": "15245295-2681-4e8b-8e41-b8669f930306",
   "metadata": {},
   "source": [
    "<br>\n",
    "\n",
    "#### 1. How many colours do we need?"
   ]
  },
  {
   "cell_type": "markdown",
   "id": "57021c19-4b64-44ef-965b-e78c3e90cea9",
   "metadata": {},
   "source": [
    "For **CHADA**, there are 5 different types of elements, for which we need a stereotype:\n",
    "\n",
    "1. User Case\n",
    "2. Experiment\n",
    "3. Raw Data\n",
    "4. Data Processing\n",
    "5. Final Data\n",
    "\n",
    "For **MODA**, there are 4 different types of elements, for which we need an individual stereotype but which match closely to the CHADA elements, meaning that the same colours can be used:\n",
    "1. User Case Input\n",
    "2. Model\n",
    "3. Raw Output\n",
    "4. Processed Output\n",
    "\n",
    "and a fifth one, which does not have an equivalent in CHADA and needs an independent colour - in the [current working agreement](https://emmc.eu/moda/) it is yellow, but as this colour appears in some of the colormaps, we will use a colour gradient between two of the other colours to distinguish this element:\n",
    "\n",
    "5. Data Based Model"
   ]
  },
  {
   "cell_type": "markdown",
   "id": "5d2bbc39-6f9f-4a8e-960b-baf370370d19",
   "metadata": {},
   "source": [
    "<br>\n",
    "\n",
    "We will produce themes with two different options for the colours:\n",
    "\n",
    "- themes with four different colours for CHADA elements 1-4. Element 5 will have the same colour as 4 but with an additional blue line around it. MODA elements 1-4 will have the same colours as the corresponding CHADA elements. MODA element 5 will have a colour gradient between two of the other colours.\n",
    "- themes with five different colours for CHADA elements 1-5 (element 5 will not have a blue line around it). MODA elements 1-4 will have the same colours as the corresponding CHADA elements. MODA element 5 will have a colour gradient between two of the other colours."
   ]
  },
  {
   "cell_type": "markdown",
   "id": "0b79c49d-cc6c-4e04-b294-edc6626f5c24",
   "metadata": {},
   "source": [
    "<br>\n",
    "\n",
    "#### 2. Selecting and sampling different colormaps"
   ]
  },
  {
   "cell_type": "markdown",
   "id": "c0f348fb-8ea4-427a-8caa-9db1813edb42",
   "metadata": {},
   "source": [
    "Now we need to select some colormaps and extract four or five different colours from them.\n",
    "\n",
    "Here, we will use some perceptually uniform colormaps (viridis, plasma and cividis), which also have the advantage that they do not contain both red and green colours, meaning that they should be clearly visible to a wider range of people. Additionally, a number of other colormaps which may be applicable to MODA/CHADA diagrams are listed. You can see all the colormaps available in matplotlib [here](https://matplotlib.org/stable/users/explain/colors/colormaps.html)\n",
    "\n",
    "Another option is to simply choose 4 or 5 colours and apply those."
   ]
  },
  {
   "cell_type": "code",
   "execution_count": 2,
   "id": "e196a227-0096-4523-8680-aa1a68574413",
   "metadata": {},
   "outputs": [],
   "source": [
    "colormaps = [\n",
    "    \"viridis\",\n",
    "    \"plasma\",\n",
    "    \"cividis\",\n",
    "    \"PiYG\",\n",
    "    \"RdBu\",\n",
    "    \"coolwarm\",\n",
    "    \"bwr\",\n",
    "    \"seismic\",\n",
    "    \"Set1\",\n",
    "    \"Set2\",\n",
    "    \"jet\",\n",
    "    \"rainbow\",\n",
    "]"
   ]
  },
  {
   "cell_type": "markdown",
   "id": "f79c45a8-fe73-40f5-9c54-49f805aa33c1",
   "metadata": {},
   "source": [
    "Now we select colours from the colormaps by sampling them at intervals between 0 and 1:"
   ]
  },
  {
   "cell_type": "code",
   "execution_count": 3,
   "id": "459c6713-d3e5-43ef-bb63-d034d551681f",
   "metadata": {},
   "outputs": [],
   "source": [
    "theme_colors = {}\n",
    "\n",
    "for cm in colormaps:\n",
    "    cm_c = mpl.colormaps[cm]\n",
    "    theme_colors[cm] = [mpl.colors.to_hex(cm_c(i)) for i in np.linspace(0.0, 1.0, 4)]\n",
    "    theme_colors[cm + \"_5\"] = [\n",
    "        mpl.colors.to_hex(cm_c(i)) for i in np.linspace(0.0, 1.0, 5)\n",
    "    ]\n",
    "\n",
    "# there are five different stereotypes, so for the themes with four colors\n",
    "# we need to repeat the last color once\n",
    "for k, v in theme_colors.items():\n",
    "    if k[-2:] != \"_5\":\n",
    "        v.append(v[-1])"
   ]
  },
  {
   "cell_type": "markdown",
   "id": "01a427ee-d08a-49af-85e0-8606b0b0622f",
   "metadata": {},
   "source": [
    "<br>\n",
    "\n",
    "#### 3. Read the template on which all the themes are based"
   ]
  },
  {
   "cell_type": "markdown",
   "id": "5d5bc5f2-87b5-406a-87fe-507c6233928c",
   "metadata": {},
   "source": [
    "Now we read theme template, which was created manually and is based on the colours in the [current working agreement](http://characterisation.eu/publications-output/)\n",
    "\n",
    "You can inspect this file in a text editor to see its structure. There are also some comment lines in the file giving further explanations."
   ]
  },
  {
   "cell_type": "code",
   "execution_count": 4,
   "id": "d845190b-1538-4ac3-bff7-747bd6f763cc",
   "metadata": {},
   "outputs": [],
   "source": [
    "with open(pathlib.Path(\"../../themes/puml-theme-MOCHADA-CWA.puml\")) as f:\n",
    "    d = f.readlines()"
   ]
  },
  {
   "cell_type": "markdown",
   "id": "10309f12-637f-4726-ac58-a9b986a73c86",
   "metadata": {},
   "source": [
    "Get the lines that don't change"
   ]
  },
  {
   "cell_type": "code",
   "execution_count": 5,
   "id": "1dc95b10-4e38-4183-908f-d97aa5c47db8",
   "metadata": {},
   "outputs": [],
   "source": [
    "mid = list(d[25:34])\n",
    "end = list(d[58:])"
   ]
  },
  {
   "cell_type": "markdown",
   "id": "5bf82c65-53a1-47ab-8ca5-296778b0aa59",
   "metadata": {},
   "source": [
    "If we have 5 colours, we don't apply a blue line to the final CHADA element"
   ]
  },
  {
   "cell_type": "code",
   "execution_count": 6,
   "id": "cfb3acd9-0af1-4ac5-8be9-c017139e8f0a",
   "metadata": {},
   "outputs": [],
   "source": [
    "end_5 = list(end)\n",
    "end_5.remove(\"  LineColor $FINAL_DATA_LINECOLOR\\n\")\n",
    "end_5.remove(\n",
    "    \"  LineThickness $FINAL_DATA_LINETHICKNESS\\n\",\n",
    ")"
   ]
  },
  {
   "cell_type": "markdown",
   "id": "01d95d1b-bc02-4a17-b139-7b57d2f8b71d",
   "metadata": {},
   "source": [
    "<br>\n",
    "\n",
    "#### 4. Define some necessary parameters"
   ]
  },
  {
   "cell_type": "markdown",
   "id": "4298279c-12d6-4fe9-b182-dfb10f660905",
   "metadata": {},
   "source": [
    "Define basic headers"
   ]
  },
  {
   "cell_type": "code",
   "execution_count": 7,
   "id": "abcbad50-ab3f-4a8a-b5b5-7c3f5c6bd8b9",
   "metadata": {},
   "outputs": [],
   "source": [
    "h4 = [\n",
    "    \"''\\n\",\n",
    "    \"'' Theme for MODA and CHADA diagrams, based on four colors from the plasma\\n\",\n",
    "    \"'' colormap in matplotlib.\\n\",\n",
    "    \"'' The colormap was evaluated at 0, 0.333, 0.667 and 1 to obtain the colours.\\n\",\n",
    "    \"''\\n\",\n",
    "]\n",
    "\n",
    "h5 = [\n",
    "    \"''\\n\",\n",
    "    \"'' Theme for MODA and CHADA diagrams, based on five colors from the plasma\\n\",\n",
    "    \"'' colormap in matplotlib.\\n\",\n",
    "    \"'' The colormap was evaluated at 0, 0.25, 0.5, 0.75 and 1 to obtain the colours.\\n\",\n",
    "    \"''\\n\",\n",
    "]\n",
    "\n",
    "hpu = [\n",
    "    \"'' This is a perceptually uniform colormap which does not contain\\n\",\n",
    "    \"'' both red and green colours and should therefore be suitable for\\n\",\n",
    "    \"'' people who have difficulty distinguishing those colours\\n\",\n",
    "    \"''\\n\",\n",
    "]"
   ]
  },
  {
   "cell_type": "markdown",
   "id": "3fcabbc0-1c45-4bed-8e70-fcb9011bc1b5",
   "metadata": {},
   "source": [
    "Now, specify the font colours for the text on the various elements in each theme. These were chosen manually having inspected the output."
   ]
  },
  {
   "cell_type": "code",
   "execution_count": 8,
   "id": "41a83d6e-a025-4290-b167-36b61651bcaf",
   "metadata": {},
   "outputs": [],
   "source": [
    "font_colors = {\n",
    "    \"viridis\": [\"White\", \"White\", \"White\", \"Black\", \"Black\"],\n",
    "    \"viridis_5\": [\"White\", \"White\", \"White\", \"Black\", \"Black\"],\n",
    "    \"plasma\": [\"White\", \"White\", \"White\", \"Black\", \"Black\"],\n",
    "    \"plasma_5\": [\"White\", \"White\", \"White\", \"Black\", \"Black\"],\n",
    "    \"cividis\": [\"White\", \"White\", \"White\", \"Black\", \"Black\"],\n",
    "    \"cividis_5\": [\"White\", \"White\", \"White\", \"Black\", \"Black\"],\n",
    "    \"PiYG\": [\"White\", \"Black\", \"Black\", \"White\", \"White\"],\n",
    "    \"PiYG_5\": [\"White\", \"Black\", \"Black\", \"Black\", \"White\"],\n",
    "    \"RdBu\": [\"White\", \"Black\", \"Black\", \"White\", \"White\"],\n",
    "    \"RdBu_5\": [\"White\", \"Black\", \"Black\", \"Black\", \"White\"],\n",
    "    \"coolwarm\": [\"White\", \"Black\", \"Black\", \"White\", \"White\"],\n",
    "    \"coolwarm_5\": [\"White\", \"Black\", \"Black\", \"Black\", \"White\"],\n",
    "    \"bwr\": [\"White\", \"Black\", \"Black\", \"White\", \"White\"],\n",
    "    \"bwr_5\": [\"White\", \"Black\", \"Black\", \"Black\", \"White\"],\n",
    "    \"seismic\": [\"White\", \"White\", \"Black\", \"White\", \"White\"],\n",
    "    \"seismic_5\": [\"White\", \"White\", \"Black\", \"Black\", \"White\"],\n",
    "    \"Set1\": [\"White\", \"White\", \"White\", \"White\", \"White\"],\n",
    "    \"Set1_5\": [\"White\", \"White\", \"White\", \"White\", \"White\"],\n",
    "    \"Set2\": [\"White\", \"White\", \"White\", \"White\", \"White\"],\n",
    "    \"Set2_5\": [\"White\", \"White\", \"White\", \"White\", \"White\"],\n",
    "    \"jet\": [\"White\", \"Black\", \"Black\", \"White\", \"White\"],\n",
    "    \"jet_5\": [\"White\", \"Black\", \"Black\", \"White\", \"White\"],\n",
    "    \"rainbow\": [\"White\", \"Black\", \"Black\", \"White\", \"White\"],\n",
    "    \"rainbow_5\": [\"White\", \"Black\", \"Black\", \"White\", \"White\"],\n",
    "}"
   ]
  },
  {
   "cell_type": "markdown",
   "id": "b68f728e-a598-49ba-b05e-058fe1fb5387",
   "metadata": {},
   "source": [
    "<br>\n",
    "\n",
    "#### 5. Compile the themes"
   ]
  },
  {
   "cell_type": "markdown",
   "id": "89709a23-87ed-4072-b706-84e67aa99687",
   "metadata": {},
   "source": [
    "Now we compile the themes and write them to file in `mochada_kit/themes`. We only need to change the definition block \"def_block\" in the theme file. The part of the file which contains the css syle block is lower down in the file and the values from the def_block are automatically transferred to the css style block"
   ]
  },
  {
   "cell_type": "code",
   "execution_count": 9,
   "id": "31672121-8317-40bc-9dc0-b5122227653e",
   "metadata": {},
   "outputs": [],
   "source": [
    "for k, v in theme_colors.items():\n",
    "    if k[-2:] == \"_5\":\n",
    "        header = list(h5)\n",
    "        end_block = end_5\n",
    "        h1 = (\n",
    "            f\"'' Theme for MODA and CHADA diagrams, based on five colors from the {k}\\n\"\n",
    "        )\n",
    "    else:\n",
    "        header = list(h4)\n",
    "        end_block = end\n",
    "        h1 = (\n",
    "            f\"'' Theme for MODA and CHADA diagrams, based on four colors from the {k}\\n\"\n",
    "        )\n",
    "\n",
    "    header[1] = h1\n",
    "\n",
    "    if k[:4] in [\"viri\", \"plas\", \"civi\"]:\n",
    "        header = header[:-1] + hpu\n",
    "\n",
    "    def_block = [\n",
    "        f'!$PUML_THEME = \"MOCHADA-{k}\"\\n',\n",
    "        f'!$THEME      = \"MOCHADA-{k}\"\\n',\n",
    "        \"!$OVERVIEW_BACKGROUNDCOLOR = Gray\\n\",\n",
    "        \"!$OVERVIEW_FONTCOLOR = White\\n\",\n",
    "        f'!$USER_CASE_BACKGROUNDCOLOR = \"{v[0]}\"\\n',\n",
    "        f\"!$USER_CASE_FONTCOLOR = {font_colors[k][0]}\\n\",\n",
    "        f'!$EXPERIMENT_BACKGROUNDCOLOR = \"{v[1]}\"\\n',\n",
    "        f\"!$EXPERIMENT_FONTCOLOR = {font_colors[k][1]}\\n\",\n",
    "        f'!$RAW_DATA_BACKGROUNDCOLOR = \"{v[2]}\"\\n',\n",
    "        f\"!$RAW_DATA_FONTCOLOR = {font_colors[k][2]}\\n\",\n",
    "        f'!$DATA_PROCESSING_BACKGROUNDCOLOR = \"{v[3]}\"\\n',\n",
    "        f\"!$DATA_PROCESSING_FONTCOLOR = {font_colors[k][3]}\\n\",\n",
    "        f'!$USER_CASE_INPUT_BACKGROUNDCOLOR = \"{v[0]}\"\\n',\n",
    "        f\"!$USER_CASE_INPUT_FONTCOLOR = {font_colors[k][0]}\\n\",\n",
    "        f'!$MODEL_BACKGROUNDCOLOR = \"{v[1]}\"\\n',\n",
    "        f\"!$MODEL_FONTCOLOR = {font_colors[k][1]}\\n\",\n",
    "        f'!$RAW_OUTPUT_BACKGROUNDCOLOR = \"{v[2]}\"\\n',\n",
    "        f\"!$RAW_OUTPUT_FONTCOLOR = {font_colors[k][2]}\\n\",\n",
    "        f'!$PROCESSED_OUTPUT_BACKGROUNDCOLOR = \"{v[3]}\"\\n',\n",
    "        f\"!$PROCESSED_OUTPUT_FONTCOLOR = {font_colors[k][3]}\\n\",\n",
    "        f'!$DATA_BASED_MODEL_BACKGROUNDCOLOR = \"{v[4]}-{v[1]}\"\\n',\n",
    "        f\"!$DATA_BASED_MODEL_FONTCOLOR = {font_colors[k][0]}\\n\",\n",
    "        f'!$FINAL_DATA_BACKGROUNDCOLOR = \"{v[4]}\"\\n',\n",
    "        f\"!$FINAL_DATA_FONTCOLOR = {font_colors[k][4]}\\n\",\n",
    "    ]\n",
    "\n",
    "    theme_str = \"\".join(header + mid + def_block + end_block)\n",
    "\n",
    "    with open(pathlib.Path(f\"../../themes/puml-theme-MOCHADA-{k}.puml\"), \"w\") as f:\n",
    "        f.write(theme_str)"
   ]
  }
 ],
 "metadata": {
  "kernelspec": {
   "display_name": "Python 3 (ipykernel)",
   "language": "python",
   "name": "python3"
  },
  "language_info": {
   "codemirror_mode": {
    "name": "ipython",
    "version": 3
   },
   "file_extension": ".py",
   "mimetype": "text/x-python",
   "name": "python",
   "nbconvert_exporter": "python",
   "pygments_lexer": "ipython3",
   "version": "3.12.7"
  }
 },
 "nbformat": 4,
 "nbformat_minor": 5
}
